{
 "cells": [
  {
   "cell_type": "markdown",
   "metadata": {},
   "source": [
    "# Stack"
   ]
  },
  {
   "cell_type": "code",
   "execution_count": null,
   "metadata": {},
   "outputs": [],
   "source": [
    "class stack:\n",
    "    stack=[None]\n",
    "    stack_top= -1\n",
    "    stack_limit=100 \n",
    "    def __init__(self, size):\n",
    "        self.stack_limit= size\n",
    "        self.stack_top= -1\n",
    "        self.stack=[0]*(size)\n",
    "    def __setitem__(self,pos, item):\n",
    "        self.stack[pos]= item\n",
    "    def push(self, item):\n",
    "        if ((self.stack_top + 1)  < (self.stack_limit)):\n",
    "            self.stack_top = self.stack_top + 1\n",
    "            self.__setitem__(self.stack_top, item)\n",
    "        else:\n",
    "            print(\"Stack is full.\")\n",
    "        return \n",
    "    def __getitem__(self, i):\n",
    "        return self.stack[i]\n",
    "    def pop(self):\n",
    "        \n",
    "        if self.stack_top>=0:\n",
    "            item= self.__getitem__(self.stack_top)\n",
    "            self.stack_top= self.stack_top - 1\n",
    "            return item\n",
    "        else:\n",
    "            print(\"Empty stack\")\n",
    "        return \"error\"\n",
    "    \n",
    "    \n",
    "\n",
    "s= stack(4)\n",
    "print( \"s.stack_top before push = \", s.stack_top)\n",
    "print( \"s.stack_limit before push = \", s.stack_limit)\n",
    "s.push(4)\n",
    "s.push(2)\n",
    "s.push(5)\n",
    "s.push(7)\n",
    "print( \"s.stack_top after push of 7 = \", s.stack_top)\n",
    "s.push(8)\n",
    "#print( \"s.stack_top after push = \", s.stack_top)\n",
    "print(\"First pop =\", s.pop())       \n",
    "print(\"Second pop = \", s.pop())\n",
    "print(\"Third pop =\", s.pop())\n",
    "print(\"Fourth pop = \", s.pop())\n",
    "print(\"Fifth pop = \", s.pop())\n",
    "print(\"Sixth pop = \", s.pop())"
   ]
  }
 ],
 "metadata": {
  "kernelspec": {
   "display_name": "Python 3",
   "language": "python",
   "name": "python3"
  },
  "language_info": {
   "codemirror_mode": {
    "name": "ipython",
    "version": 3
   },
   "file_extension": ".py",
   "mimetype": "text/x-python",
   "name": "python",
   "nbconvert_exporter": "python",
   "pygments_lexer": "ipython3",
   "version": "3.8.3"
  }
 },
 "nbformat": 4,
 "nbformat_minor": 4
}
